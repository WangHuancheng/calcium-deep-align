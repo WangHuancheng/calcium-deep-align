{
 "cells": [
  {
   "cell_type": "code",
   "execution_count": 6,
   "source": [
    "import torch\n",
    "import torch.nn as nn\n",
    "import torch.nn.functional as functional\n",
    "import torchfields\n",
    "from mmcv.ops import DeformConv2dPack\n",
    "from tifffile import imread as tiff_read\n",
    "from tifffile import imwrite as tiff_write\n",
    "from matplotlib import pyplot as plt\n",
    "import torchvision.transforms\n",
    "from motion_generate import MotionGenerator\n",
    "import numpy\n",
    "\n",
    "#TODO: Residual connection may required\n",
    "class FeatureExtraction(nn.Module): # return feature_lv1,feature_lv2,feature_lv3\n",
    "    def __init__(self,origin_channel,internal_channel=16,lv=3) -> None:\n",
    "        super().__init__()\n",
    "        self.relu = nn.ReLU()\n",
    "        self.level = lv\n",
    "        self.feature_layer = nn.ModuleList()\n",
    "        self.feature = []\n",
    "        self.max_pool = nn.MaxPool2d(kernel_size=3,stride=2,padding=1)\n",
    "        self.origin_channel = origin_channel\n",
    "        for i in range(self.level):\n",
    "            input_channel = origin_channel if i==0 else internal_channel\n",
    "            feature_block = nn.Sequential(\n",
    "                                nn.Conv2d(input_channel,internal_channel,3,padding=1),\n",
    "                                self.relu,\n",
    "                                nn.Conv2d(internal_channel,internal_channel,3,padding=1),\n",
    "                                self.relu\n",
    "                            )\n",
    "            self.feature_layer.append(feature_block)\n",
    "    \n",
    "    def forward(self,origin_image):\n",
    "        for i in range(self.level):\n",
    "            input = origin_image if i==0 else self.feature[i-1]\n",
    "            self.feature.append(self.feature_layer[i](input))\n",
    "        return self.feature\n",
    "            \n",
    "class Data(object):\n",
    "        def __init__(self,image = torch.zeros(1,1,1,1)) -> None:\n",
    "            self.image = image\n",
    "            self.feature = [] \n",
    "\n",
    "class Algin(nn.Module):\n",
    "    def __init__(self,original_channel,internal_channel = 16,groups=8,lv=3) -> None:\n",
    "        super().__init__()\n",
    "        self.internal_channel = internal_channel\n",
    "        self.groups=groups\n",
    "        self.relu = nn.ReLU()\n",
    "        self.level=lv\n",
    "        self.feature_extraction = FeatureExtraction(original_channel,internal_channel) #feature -> [tensor(N,C,H,W),]\n",
    "        \n",
    "        self.offset_bottleneck =  nn.ModuleList()\n",
    "        '''\n",
    "        offset bottleneck conv layer  \n",
    "        input: concat(reference image feature ,unreg image feature): tensor(N,2C,H/2**lv,W/2**lv)\n",
    "        output: internal offset feature :tensor(N,C,H,W)\n",
    "        '''\n",
    "        self.offset_generator =  nn.ModuleList()\n",
    "        '''\n",
    "        offset generate conv layer  \n",
    "        input: concat(internal offset feature,upsambled low level offset): tensor(N,2C,H/2**lv,W/2**lv)\n",
    "                or if LOWEST level:\n",
    "                        internal offset feature:tensor(N,C,H,W)\n",
    "        output: offset tensor(N,3*3*2,H,W)\n",
    "        '''\n",
    "        self.deformable_conv = nn.ModuleList()\n",
    "        '''\n",
    "        input: unreg image feature: tensor(N,C,H/2**lv,W/2**lv),  \n",
    "               offset: tensor(N,3*3*2,H,W)\n",
    "        out: internal feature: tensor(N,C,H/2**lv,W/2**lv)\n",
    "        '''\n",
    "        self.feature_conv = nn.ModuleList()\n",
    "        '''\n",
    "        input : concat(internal feature,upsambled lower level aligned feature): tensor(N,2C,H/2**lv,W/2**lv)\n",
    "        out : aligned feature: tensor(N,C,H/2**lv,W/2**lv)\n",
    "        '''\n",
    "        self.displace_field_predict_offset_bottleneck = nn.Conv2d(2*internal_channel,internal_channel,3,padding=1)\n",
    "        self.displace_field_predict_offset_generator = nn.Conv2d(2*internal_channel,36,3,padding=1)\n",
    "        self.displace_field_predict_deform_conv = DeformConv2dPack(internal_channel,2,3,padding=1,deform_groups=2)\n",
    "        for i in range(self.level):\n",
    "            if i != self.level-1 :\n",
    "                self.offset_bottleneck.append(nn.Conv2d(2*internal_channel,internal_channel,3,padding=1))\n",
    "                self.offset_generator.append(nn.Conv2d(2*internal_channel,18,3,padding=1))\n",
    "                self.deformable_conv.append(DeformConv2dPack(internal_channel,internal_channel,3,\n",
    "                                                         padding=1))\n",
    "                self.feature_conv.append(nn.Conv2d(2*internal_channel,internal_channel,3,padding=1))\n",
    "    \n",
    "    def forward(self,ref_image,unreg_image):\n",
    "        self.ref_data = Data(ref_image)\n",
    "        self.unreg_data = Data(unreg_image)\n",
    "        self.aligned_data = Data()\n",
    "        self.aligned_data.offset = []\n",
    "        self.ref_data.feature =  self.feature_extraction(self.ref_data.image) \n",
    "        self.unreg_data.feature = self.feature_extraction(self.unreg_data.image)\n",
    "        \n",
    "        for i in range(self.level):\n",
    "            self.aligned_data.offset.append(torch.cat((self.ref_data.feature[i],self.unreg_data.feature[i]),dim=1))\n",
    "            self.aligned_data.feature.append('python list sucks')\n",
    "        for i in range(self.level,-1,-1):\n",
    "            self.aligned_data.offset[i]=self.relu(self.offset_bottleneck[i](self.aligned_data.offset[i]))\n",
    "            if i==self.level-1:\n",
    "                internal_offset_feature = self.aligned_data.offset[i]\n",
    "            else:\n",
    "                upsambled_lower_level_offset = functional.interpolate(self.aligned_data.offset[i+1],scale_factor=2,mode='bilinear') \n",
    "                internal_offset_feature = torch.cat((self.aligned_data.offset[i],upsambled_lower_level_offset),dim=1)\n",
    "            self.aligned_data.offset[i] =self.relu(self.offset_generator[i](internal_offset_feature))\n",
    "            self.aligned_data.feature[i]= self.relu(self.deformable_conv[i](self.unreg_data.feature[i],self.aligned_data.offset[i]))\n",
    "            upsambled_lower_level_feature = functional.interpolate(self.aligned_data.feature[i+1],scale_factor=2,mode='bilinear')\n",
    "            self.aligned_data.feature[i] = torch.cat((self.aligned_data.feature[i],upsambled_lower_level_feature),dim=1)\n",
    "            self.aligned_data.feature[i] = self.relu(self.feature_conv[i](self.aligned_data.feature[i]))\n",
    "        displace_field_offset = self.displace_field_predict_offset_bottleneck(\n",
    "                        torch.concat((self.ref_data.feature[0],self.aligned_data.feature[0]),dim=1))\n",
    "        displace_field_offset = self.displace_field_predict_offset_generator(\n",
    "                                torch.cat((displace_field_offset,self.aligned_data.offset[0]),dim=1))\n",
    "        displace_field = self.displace_field_predict_deform_conv(self.aligned_data.feature[0],offset =displace_field_offset)\n",
    "        return displace_field\n",
    "          \n",
    "class DenoisedDataset(torch.utils.data.Dataset):\n",
    "    def __init__(self,img_dir='data/',) -> None:\n",
    "        super().__init__()\n",
    "        self.img_dir = img_dir\n",
    "\n",
    "    def __len__():\n",
    "        return None\n",
    "\n",
    "    def __getitem__(self,idx):\n",
    "        imgpath = self.imgdir + f'{idx}.tif'\n",
    "    "
   ],
   "outputs": [],
   "metadata": {}
  },
  {
   "cell_type": "code",
   "execution_count": 8,
   "source": [
    "\n",
    "print('model_define as main')\n",
    "#test FeatureExtraction block\n",
    "f = FeatureExtraction(1)\n",
    "t = torch.rand(1,1,64,64)\n",
    "print(t)\n",
    "t = f(t)\n",
    "for fe in t:\n",
    "    print(fe.shape)\n",
    "g = Algin(1)"
   ],
   "outputs": [
    {
     "output_type": "stream",
     "name": "stdout",
     "text": [
      "model_define as main\n",
      "tensor([[[[0.0268, 0.2877, 0.0921,  ..., 0.1785, 0.3015, 0.6776],\n",
      "          [0.3145, 0.3739, 0.9251,  ..., 0.4944, 0.2459, 0.9978],\n",
      "          [0.3593, 0.7910, 0.8134,  ..., 0.5160, 0.6391, 0.4028],\n",
      "          ...,\n",
      "          [0.4550, 0.3278, 0.4619,  ..., 0.0608, 0.3335, 0.2610],\n",
      "          [0.7901, 0.5826, 0.8488,  ..., 0.8658, 0.2250, 0.6202],\n",
      "          [0.8745, 0.9346, 0.2246,  ..., 0.3479, 0.4916, 0.3761]]]])\n",
      "torch.Size([1, 16, 64, 64])\n",
      "torch.Size([1, 16, 64, 64])\n",
      "torch.Size([1, 16, 64, 64])\n"
     ]
    }
   ],
   "metadata": {}
  },
  {
   "cell_type": "code",
   "execution_count": 9,
   "source": [
    "t2 = torch.rand(1,1,64,64)"
   ],
   "outputs": [],
   "metadata": {}
  },
  {
   "cell_type": "code",
   "execution_count": 14,
   "source": [
    "for i in range(10-1,-1,-1):\n",
    "    print(i)"
   ],
   "outputs": [
    {
     "output_type": "stream",
     "name": "stdout",
     "text": [
      "9\n",
      "8\n",
      "7\n",
      "6\n",
      "5\n",
      "4\n",
      "3\n",
      "2\n",
      "1\n",
      "0\n"
     ]
    }
   ],
   "metadata": {}
  },
  {
   "cell_type": "code",
   "execution_count": 11,
   "source": [
    "u = g(t2,t2)"
   ],
   "outputs": [
    {
     "output_type": "error",
     "ename": "IndexError",
     "evalue": "index 3 is out of range",
     "traceback": [
      "\u001b[0;31m---------------------------------------------------------------------------\u001b[0m",
      "\u001b[0;31mIndexError\u001b[0m                                Traceback (most recent call last)",
      "\u001b[0;32m/tmp/ipykernel_4137441/3642607828.py\u001b[0m in \u001b[0;36m<module>\u001b[0;34m\u001b[0m\n\u001b[0;32m----> 1\u001b[0;31m \u001b[0mu\u001b[0m \u001b[0;34m=\u001b[0m \u001b[0mg\u001b[0m\u001b[0;34m(\u001b[0m\u001b[0mt2\u001b[0m\u001b[0;34m,\u001b[0m\u001b[0mt2\u001b[0m\u001b[0;34m)\u001b[0m\u001b[0;34m\u001b[0m\u001b[0;34m\u001b[0m\u001b[0m\n\u001b[0m",
      "\u001b[0;32m~/miniconda3/lib/python3.9/site-packages/torch/nn/modules/module.py\u001b[0m in \u001b[0;36m_call_impl\u001b[0;34m(self, *input, **kwargs)\u001b[0m\n\u001b[1;32m   1100\u001b[0m         if not (self._backward_hooks or self._forward_hooks or self._forward_pre_hooks or _global_backward_hooks\n\u001b[1;32m   1101\u001b[0m                 or _global_forward_hooks or _global_forward_pre_hooks):\n\u001b[0;32m-> 1102\u001b[0;31m             \u001b[0;32mreturn\u001b[0m \u001b[0mforward_call\u001b[0m\u001b[0;34m(\u001b[0m\u001b[0;34m*\u001b[0m\u001b[0minput\u001b[0m\u001b[0;34m,\u001b[0m \u001b[0;34m**\u001b[0m\u001b[0mkwargs\u001b[0m\u001b[0;34m)\u001b[0m\u001b[0;34m\u001b[0m\u001b[0;34m\u001b[0m\u001b[0m\n\u001b[0m\u001b[1;32m   1103\u001b[0m         \u001b[0;31m# Do not call functions when jit is used\u001b[0m\u001b[0;34m\u001b[0m\u001b[0;34m\u001b[0m\u001b[0;34m\u001b[0m\u001b[0m\n\u001b[1;32m   1104\u001b[0m         \u001b[0mfull_backward_hooks\u001b[0m\u001b[0;34m,\u001b[0m \u001b[0mnon_full_backward_hooks\u001b[0m \u001b[0;34m=\u001b[0m \u001b[0;34m[\u001b[0m\u001b[0;34m]\u001b[0m\u001b[0;34m,\u001b[0m \u001b[0;34m[\u001b[0m\u001b[0;34m]\u001b[0m\u001b[0;34m\u001b[0m\u001b[0;34m\u001b[0m\u001b[0m\n",
      "\u001b[0;32m/tmp/ipykernel_4137441/2654123413.py\u001b[0m in \u001b[0;36mforward\u001b[0;34m(self, ref_image, unreg_image)\u001b[0m\n\u001b[1;32m     99\u001b[0m             \u001b[0mself\u001b[0m\u001b[0;34m.\u001b[0m\u001b[0maligned_data\u001b[0m\u001b[0;34m.\u001b[0m\u001b[0mfeature\u001b[0m\u001b[0;34m.\u001b[0m\u001b[0mappend\u001b[0m\u001b[0;34m(\u001b[0m\u001b[0;34m'python list sucks'\u001b[0m\u001b[0;34m)\u001b[0m\u001b[0;34m\u001b[0m\u001b[0;34m\u001b[0m\u001b[0m\n\u001b[1;32m    100\u001b[0m         \u001b[0;32mfor\u001b[0m \u001b[0mi\u001b[0m \u001b[0;32min\u001b[0m \u001b[0mrange\u001b[0m\u001b[0;34m(\u001b[0m\u001b[0mself\u001b[0m\u001b[0;34m.\u001b[0m\u001b[0mlevel\u001b[0m\u001b[0;34m,\u001b[0m\u001b[0;34m-\u001b[0m\u001b[0;36m1\u001b[0m\u001b[0;34m,\u001b[0m\u001b[0;34m-\u001b[0m\u001b[0;36m1\u001b[0m\u001b[0;34m)\u001b[0m\u001b[0;34m:\u001b[0m\u001b[0;34m\u001b[0m\u001b[0;34m\u001b[0m\u001b[0m\n\u001b[0;32m--> 101\u001b[0;31m             \u001b[0mself\u001b[0m\u001b[0;34m.\u001b[0m\u001b[0maligned_data\u001b[0m\u001b[0;34m.\u001b[0m\u001b[0moffset\u001b[0m\u001b[0;34m[\u001b[0m\u001b[0mi\u001b[0m\u001b[0;34m]\u001b[0m\u001b[0;34m=\u001b[0m\u001b[0mself\u001b[0m\u001b[0;34m.\u001b[0m\u001b[0mrelu\u001b[0m\u001b[0;34m(\u001b[0m\u001b[0mself\u001b[0m\u001b[0;34m.\u001b[0m\u001b[0moffset_bottleneck\u001b[0m\u001b[0;34m[\u001b[0m\u001b[0mi\u001b[0m\u001b[0;34m]\u001b[0m\u001b[0;34m(\u001b[0m\u001b[0mself\u001b[0m\u001b[0;34m.\u001b[0m\u001b[0maligned_data\u001b[0m\u001b[0;34m.\u001b[0m\u001b[0moffset\u001b[0m\u001b[0;34m[\u001b[0m\u001b[0mi\u001b[0m\u001b[0;34m]\u001b[0m\u001b[0;34m)\u001b[0m\u001b[0;34m)\u001b[0m\u001b[0;34m\u001b[0m\u001b[0;34m\u001b[0m\u001b[0m\n\u001b[0m\u001b[1;32m    102\u001b[0m             \u001b[0;32mif\u001b[0m \u001b[0mi\u001b[0m\u001b[0;34m==\u001b[0m\u001b[0mself\u001b[0m\u001b[0;34m.\u001b[0m\u001b[0mlevel\u001b[0m\u001b[0;34m-\u001b[0m\u001b[0;36m1\u001b[0m\u001b[0;34m:\u001b[0m\u001b[0;34m\u001b[0m\u001b[0;34m\u001b[0m\u001b[0m\n\u001b[1;32m    103\u001b[0m                 \u001b[0minternal_offset_feature\u001b[0m \u001b[0;34m=\u001b[0m \u001b[0mself\u001b[0m\u001b[0;34m.\u001b[0m\u001b[0maligned_data\u001b[0m\u001b[0;34m.\u001b[0m\u001b[0moffset\u001b[0m\u001b[0;34m[\u001b[0m\u001b[0mi\u001b[0m\u001b[0;34m]\u001b[0m\u001b[0;34m\u001b[0m\u001b[0;34m\u001b[0m\u001b[0m\n",
      "\u001b[0;32m~/miniconda3/lib/python3.9/site-packages/torch/nn/modules/container.py\u001b[0m in \u001b[0;36m__getitem__\u001b[0;34m(self, idx)\u001b[0m\n\u001b[1;32m    188\u001b[0m             \u001b[0;32mreturn\u001b[0m \u001b[0mself\u001b[0m\u001b[0;34m.\u001b[0m\u001b[0m__class__\u001b[0m\u001b[0;34m(\u001b[0m\u001b[0mlist\u001b[0m\u001b[0;34m(\u001b[0m\u001b[0mself\u001b[0m\u001b[0;34m.\u001b[0m\u001b[0m_modules\u001b[0m\u001b[0;34m.\u001b[0m\u001b[0mvalues\u001b[0m\u001b[0;34m(\u001b[0m\u001b[0;34m)\u001b[0m\u001b[0;34m)\u001b[0m\u001b[0;34m[\u001b[0m\u001b[0midx\u001b[0m\u001b[0;34m]\u001b[0m\u001b[0;34m)\u001b[0m\u001b[0;34m\u001b[0m\u001b[0;34m\u001b[0m\u001b[0m\n\u001b[1;32m    189\u001b[0m         \u001b[0;32melse\u001b[0m\u001b[0;34m:\u001b[0m\u001b[0;34m\u001b[0m\u001b[0;34m\u001b[0m\u001b[0m\n\u001b[0;32m--> 190\u001b[0;31m             \u001b[0;32mreturn\u001b[0m \u001b[0mself\u001b[0m\u001b[0;34m.\u001b[0m\u001b[0m_modules\u001b[0m\u001b[0;34m[\u001b[0m\u001b[0mself\u001b[0m\u001b[0;34m.\u001b[0m\u001b[0m_get_abs_string_index\u001b[0m\u001b[0;34m(\u001b[0m\u001b[0midx\u001b[0m\u001b[0;34m)\u001b[0m\u001b[0;34m]\u001b[0m\u001b[0;34m\u001b[0m\u001b[0;34m\u001b[0m\u001b[0m\n\u001b[0m\u001b[1;32m    191\u001b[0m \u001b[0;34m\u001b[0m\u001b[0m\n\u001b[1;32m    192\u001b[0m     \u001b[0;32mdef\u001b[0m \u001b[0m__setitem__\u001b[0m\u001b[0;34m(\u001b[0m\u001b[0mself\u001b[0m\u001b[0;34m,\u001b[0m \u001b[0midx\u001b[0m\u001b[0;34m:\u001b[0m \u001b[0mint\u001b[0m\u001b[0;34m,\u001b[0m \u001b[0mmodule\u001b[0m\u001b[0;34m:\u001b[0m \u001b[0mModule\u001b[0m\u001b[0;34m)\u001b[0m \u001b[0;34m->\u001b[0m \u001b[0;32mNone\u001b[0m\u001b[0;34m:\u001b[0m\u001b[0;34m\u001b[0m\u001b[0;34m\u001b[0m\u001b[0m\n",
      "\u001b[0;32m~/miniconda3/lib/python3.9/site-packages/torch/nn/modules/container.py\u001b[0m in \u001b[0;36m_get_abs_string_index\u001b[0;34m(self, idx)\u001b[0m\n\u001b[1;32m    178\u001b[0m         \u001b[0midx\u001b[0m \u001b[0;34m=\u001b[0m \u001b[0moperator\u001b[0m\u001b[0;34m.\u001b[0m\u001b[0mindex\u001b[0m\u001b[0;34m(\u001b[0m\u001b[0midx\u001b[0m\u001b[0;34m)\u001b[0m\u001b[0;34m\u001b[0m\u001b[0;34m\u001b[0m\u001b[0m\n\u001b[1;32m    179\u001b[0m         \u001b[0;32mif\u001b[0m \u001b[0;32mnot\u001b[0m \u001b[0;34m(\u001b[0m\u001b[0;34m-\u001b[0m\u001b[0mlen\u001b[0m\u001b[0;34m(\u001b[0m\u001b[0mself\u001b[0m\u001b[0;34m)\u001b[0m \u001b[0;34m<=\u001b[0m \u001b[0midx\u001b[0m \u001b[0;34m<\u001b[0m \u001b[0mlen\u001b[0m\u001b[0;34m(\u001b[0m\u001b[0mself\u001b[0m\u001b[0;34m)\u001b[0m\u001b[0;34m)\u001b[0m\u001b[0;34m:\u001b[0m\u001b[0;34m\u001b[0m\u001b[0;34m\u001b[0m\u001b[0m\n\u001b[0;32m--> 180\u001b[0;31m             \u001b[0;32mraise\u001b[0m \u001b[0mIndexError\u001b[0m\u001b[0;34m(\u001b[0m\u001b[0;34m'index {} is out of range'\u001b[0m\u001b[0;34m.\u001b[0m\u001b[0mformat\u001b[0m\u001b[0;34m(\u001b[0m\u001b[0midx\u001b[0m\u001b[0;34m)\u001b[0m\u001b[0;34m)\u001b[0m\u001b[0;34m\u001b[0m\u001b[0;34m\u001b[0m\u001b[0m\n\u001b[0m\u001b[1;32m    181\u001b[0m         \u001b[0;32mif\u001b[0m \u001b[0midx\u001b[0m \u001b[0;34m<\u001b[0m \u001b[0;36m0\u001b[0m\u001b[0;34m:\u001b[0m\u001b[0;34m\u001b[0m\u001b[0;34m\u001b[0m\u001b[0m\n\u001b[1;32m    182\u001b[0m             \u001b[0midx\u001b[0m \u001b[0;34m+=\u001b[0m \u001b[0mlen\u001b[0m\u001b[0;34m(\u001b[0m\u001b[0mself\u001b[0m\u001b[0;34m)\u001b[0m\u001b[0;34m\u001b[0m\u001b[0;34m\u001b[0m\u001b[0m\n",
      "\u001b[0;31mIndexError\u001b[0m: index 3 is out of range"
     ]
    }
   ],
   "metadata": {}
  }
 ],
 "metadata": {
  "orig_nbformat": 4,
  "language_info": {
   "name": "python",
   "version": "3.9.5",
   "mimetype": "text/x-python",
   "codemirror_mode": {
    "name": "ipython",
    "version": 3
   },
   "pygments_lexer": "ipython3",
   "nbconvert_exporter": "python",
   "file_extension": ".py"
  },
  "kernelspec": {
   "name": "python3",
   "display_name": "Python 3.9.5 64-bit ('base': conda)"
  },
  "interpreter": {
   "hash": "9b8267d24fcf6f9f45540eb44e205326d8c5935e930a167adf23f03b51eff373"
  }
 },
 "nbformat": 4,
 "nbformat_minor": 2
}